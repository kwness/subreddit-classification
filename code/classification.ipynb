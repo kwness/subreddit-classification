{
 "cells": [
  {
   "cell_type": "markdown",
   "id": "a896bf5a-ffe6-4b80-920f-fed561eafd5a",
   "metadata": {},
   "source": [
    "<img src=\"http://imgur.com/1ZcRyrc.png\" style=\"float: left; margin: 20px; height: 55px\">\n",
    "\n",
    "# Improving Online Advertising via Classification\n",
    "###  Author: Kyle Ness, Online Analysis Co."
   ]
  },
  {
   "cell_type": "markdown",
   "id": "19e7f381-eb9d-449d-8e72-992044c0136d",
   "metadata": {},
   "source": [
    "## Problem Statement\n",
    "\n",
    "If a company wants to be successful in marketing their products to prospective customers, they must know their audience. The founders at Everything Meal Prep believe that wholeheartedly, and for that reason, they have gone the distance of hiring us consultants at Online Analysis Co. to help them towards this success. They have done this in the hopes that via our data-driven insights and our ability to create an automated classification system, their meal plan advertisements will only reach customers with matching diets / food interests going forward. This should save them money that would otherwise be spent on ineffective advertising, and conversely, potentially boost sales (if they committed to the same amount of advertising spend). \n",
    "\n",
    "Specifically, Everything Meal Prep has tasked us with improving their online advertisements hosted on reddit. As their name suggests, they provide customers meal plans consisting of virtually any ingredients. For this task, they want us to focus solely on aiding the performance of their carnivore and vegan meal plan lines. To this end, we must build an accurate binary classification system, determining whether an online person is a carnivore or a vegan. We will do this by analyzing data that we scraped from the subreddits (of Reddit.com) r/vegan and r/carnivore. Hopefully by using natural language processing techniques and testing various classification models, we will arrive at a system that can perfrom this task with the utmost accuracy.\n",
    "\n",
    "Specifically, Naive Bayes and logistic regression models will be constructed and evaluated for this task. We also aim to provide Everything Meal Prep with recommendations about how to go about their marketing."
   ]
  },
  {
   "cell_type": "markdown",
   "id": "16ecf6e4-8203-4caf-9019-b07f28c855f9",
   "metadata": {},
   "source": [
    "### Contents:\n",
    "- [Data Import, Cleaning, and Pre-processing](#Data-Import,-Cleaning,-and-Pre-processing)\n",
    "- [Exploratory Data Analysis](#Exploratory-Data-Analysis)\n",
    "- [Model Creation and Evaluation](#Model-Creation-and-Evaluation)\n",
    "- [Conclusions and Recommendations](#Conclusions-and-Recommendations)"
   ]
  },
  {
   "cell_type": "code",
   "execution_count": 92,
   "id": "1a465104-8036-400d-bdc3-c8613c861f37",
   "metadata": {},
   "outputs": [],
   "source": [
    "#Imports\n",
    "import re\n",
    "import numpy as np\n",
    "import pandas as pd\n",
    "import seaborn as sns\n",
    "import matplotlib.pyplot as plt\n",
    "from nltk.corpus import stopwords\n",
    "from sklearn.pipeline import Pipeline\n",
    "from nltk.stem import WordNetLemmatizer\n",
    "from nltk.tokenize import word_tokenize          \n",
    "from sklearn.naive_bayes import MultinomialNB\n",
    "from sklearn.linear_model import LogisticRegression\n",
    "from sklearn.model_selection import train_test_split, GridSearchCV\n",
    "from sklearn.metrics import confusion_matrix, plot_confusion_matrix, r2_score, mean_squared_error, mean_absolute_error\n",
    "from sklearn.feature_extraction.text import CountVectorizer, TfidfVectorizer\n",
    "\n",
    "#Error message handling\n",
    "import warnings\n",
    "warnings.filterwarnings('ignore') "
   ]
  },
  {
   "cell_type": "markdown",
   "id": "17a4f108-dbfb-4161-93f1-6ca931fe1499",
   "metadata": {},
   "source": [
    "---\n",
    "## Data Import, Cleaning, and Pre-processing"
   ]
  },
  {
   "cell_type": "markdown",
   "id": "40954e0e-f9f5-4ba1-a4f9-1c4d61963ec1",
   "metadata": {},
   "source": [
    "First, reading in the datasets that were scraped from each subreddit:"
   ]
  },
  {
   "cell_type": "code",
   "execution_count": 93,
   "id": "04a53365-5209-4772-82bd-d0eda71faeb6",
   "metadata": {},
   "outputs": [],
   "source": [
    "#Reading in the datasets that were scraped:\n",
    "vegan = pd.read_csv('../datasets/vegan.csv')\n",
    "carn = pd.read_csv('../datasets/carnivore.csv')\n",
    "#We can combine these into one dataset for easier reference\n",
    "data = pd.concat([vegan, carn], axis = 0)\n",
    "data.reset_index(drop = True, inplace = True)"
   ]
  },
  {
   "cell_type": "markdown",
   "id": "11bffc77-074a-4ebb-89bc-6e500e3b3ea4",
   "metadata": {},
   "source": [
    "Some cleaning was already done in the 'scraping' file also located in this repository, like simple calls of drop_duplicates(). However, we will check again to see if there are any duplicates, missing values, or entries that are not worthwhile in general."
   ]
  },
  {
   "cell_type": "code",
   "execution_count": 94,
   "id": "9441b3ed-832b-4f6f-8e8a-490b8b6ebdd0",
   "metadata": {},
   "outputs": [
    {
     "data": {
      "text/plain": [
       "A loved one asks you to pick up a non-vegan item on the way home. What is your answer?    5\n",
       "Calories                                                                                  3\n",
       "Do you swat flies?                                                                        2\n",
       "Which Vegan Ad Is Best?                                                                   2\n",
       "I need some help                                                                          2\n",
       "3 months in, would appreciate some advice/opinions                                        2\n",
       "Would you eat lab-grown meat/fish?                                                        1\n",
       "Vegans who feed their cats meat: Do you also give your kitties meat-based treats ?        1\n",
       "I am sad and beyond disgusted...                                                          1\n",
       "Cadets and Rations                                                                        1\n",
       "Name: title, dtype: int64"
      ]
     },
     "execution_count": 94,
     "metadata": {},
     "output_type": "execute_result"
    }
   ],
   "source": [
    "data['title'].value_counts().sort_values(ascending = False).head(10)"
   ]
  },
  {
   "cell_type": "code",
   "execution_count": 95,
   "id": "f98fb1be-3584-4873-9284-10757d7d4840",
   "metadata": {},
   "outputs": [
    {
     "data": {
      "text/plain": [
       "323    \\n\\n[View Poll](https://www.reddit.com/poll/ve...\n",
       "324    \\n\\n[View Poll](https://www.reddit.com/poll/ve...\n",
       "325    \\n\\n[View Poll](https://www.reddit.com/poll/ve...\n",
       "326    \\n\\n[View Poll](https://www.reddit.com/poll/ve...\n",
       "327    \\n\\n[View Poll](https://www.reddit.com/poll/ve...\n",
       "Name: selftext, dtype: object"
      ]
     },
     "execution_count": 95,
     "metadata": {},
     "output_type": "execute_result"
    }
   ],
   "source": [
    "data[data['title'] == 'A loved one asks you to pick up a non-vegan item on the way home. What is your answer?']['selftext'] #Only 5 rows, so all will print"
   ]
  },
  {
   "cell_type": "code",
   "execution_count": 96,
   "id": "00022965-be6c-47a5-88c6-aae18fb81d46",
   "metadata": {},
   "outputs": [
    {
     "data": {
      "text/plain": [
       "863     Hello! I felt my absolute best when I went veg...\n",
       "1781    Hey ya’ll how can you get 4-5k calories a day ...\n",
       "2004    I started carnivore today and was shocked when...\n",
       "Name: selftext, dtype: object"
      ]
     },
     "execution_count": 96,
     "metadata": {},
     "output_type": "execute_result"
    }
   ],
   "source": [
    "data[data['title'] == 'Calories']['selftext'].head()"
   ]
  },
  {
   "cell_type": "code",
   "execution_count": 97,
   "id": "b70fab04-e7d4-4000-9415-e5ad76f309dc",
   "metadata": {},
   "outputs": [
    {
     "data": {
      "text/plain": [
       "992     \\n\\n[View Poll](https://www.reddit.com/poll/uy...\n",
       "1018    [removed]\\n\\n[View Poll](https://www.reddit.co...\n",
       "Name: selftext, dtype: object"
      ]
     },
     "execution_count": 97,
     "metadata": {},
     "output_type": "execute_result"
    }
   ],
   "source": [
    "data[data['title'] == 'Do you swat flies?']['selftext'].head()"
   ]
  },
  {
   "cell_type": "code",
   "execution_count": 98,
   "id": "22868d22-52bb-4d8c-989e-c7accf4445aa",
   "metadata": {},
   "outputs": [
    {
     "data": {
      "text/plain": [
       "58     I'm doing a project for a photography course....\n",
       "59    I'm doing a project for a photography course. ...\n",
       "Name: selftext, dtype: object"
      ]
     },
     "execution_count": 98,
     "metadata": {},
     "output_type": "execute_result"
    }
   ],
   "source": [
    "vegan[vegan['title'] == 'Which Vegan Ad Is Best?']['selftext'].head() "
   ]
  },
  {
   "cell_type": "code",
   "execution_count": 99,
   "id": "635f8d3e-08ca-467e-ba53-dbb0c707baa0",
   "metadata": {},
   "outputs": [
    {
     "data": {
      "text/plain": [
       "215     My wife (32f) came to me about 5 years ago and...\n",
       "1049    Hello everyone :) I’m learning about how eatin...\n",
       "Name: selftext, dtype: object"
      ]
     },
     "execution_count": 99,
     "metadata": {},
     "output_type": "execute_result"
    }
   ],
   "source": [
    "data[data['title'] == 'I need some help']['selftext'].head() "
   ]
  },
  {
   "cell_type": "code",
   "execution_count": 100,
   "id": "906dae6a-02a2-426a-96dd-6e4e17b0e9f3",
   "metadata": {},
   "outputs": [
    {
     "data": {
      "text/plain": [
       "1150    I’m 2 days away from 3 months of very strict c...\n",
       "1151    I’m 2 days away from 3 months of very strict c...\n",
       "Name: selftext, dtype: object"
      ]
     },
     "execution_count": 100,
     "metadata": {},
     "output_type": "execute_result"
    }
   ],
   "source": [
    "data[data['title'] == '3 months in, would appreciate some advice/opinions']['selftext'].head() "
   ]
  },
  {
   "cell_type": "markdown",
   "id": "d9c8d0b6-79ce-44d6-ba0f-0c12764d686a",
   "metadata": {
    "tags": []
   },
   "source": [
    "Here, \"A loved one asks...\" and \"Do you swat flies?\" do not offer us very worthwhile descriptions, as they only contain polls. These should be dropped. Additionally, the posts titled \"Which Vegan Ad Is Best?\" and \"3 months in...\" seem to be duplicates / reposts that were not picked up by drop_duplicates when scraping. We will have to drop these manually. The post titles \"Calories\" and \"I need some help\" are also repeated, but given that their associated descriptions are unique, these seem to incidences of genuine re-use. That is, perhaps these titles are common. These will be kept."
   ]
  },
  {
   "cell_type": "code",
   "execution_count": 101,
   "id": "84f798e4-0b49-4fa8-b614-614551fc24ff",
   "metadata": {},
   "outputs": [
    {
     "data": {
      "text/plain": [
       "Calories                                                                                 3\n",
       "I need some help                                                                         2\n",
       "Packed Lunch                                                                             1\n",
       "I don't understand how people buy into milk propaganda                                   1\n",
       "The vegan movement as a problem                                                          1\n",
       "                                                                                        ..\n",
       "Two questions for a noobie...probably know the answer but checkin.                       1\n",
       "Sometimes I wish meat came in pellets so you could just swallow a handful when needed    1\n",
       "Trying to come away from plastic bottled water                                           1\n",
       "Sunburn?                                                                                 1\n",
       "Huntington's Disease advice on carnivore?                                                1\n",
       "Name: title, Length: 2088, dtype: int64"
      ]
     },
     "execution_count": 101,
     "metadata": {},
     "output_type": "execute_result"
    }
   ],
   "source": [
    "#Dropping duplicates / bad posts\n",
    "data.drop(data.index[[323, 324, 325, 326, 327, 992, 1018, 58, 1150]], inplace = True)\n",
    "\n",
    "data['title'].value_counts().sort_values(ascending = False) #Much better!"
   ]
  },
  {
   "cell_type": "markdown",
   "id": "15611121-4d6c-43cf-a748-173ba42381c1",
   "metadata": {},
   "source": [
    "Now we will reset the indices on the dataframe once more so that there's no possible issues later due to these changes (say if we need to locate by index):"
   ]
  },
  {
   "cell_type": "code",
   "execution_count": 41,
   "id": "b6fa17b8-d1ae-4b30-b840-dc86a28b441f",
   "metadata": {},
   "outputs": [
    {
     "name": "stdout",
     "output_type": "stream",
     "text": [
      "(2091, 3)\n"
     ]
    }
   ],
   "source": [
    "data.reset_index(drop = True, inplace = True)\n",
    "\n",
    "print(data.shape)"
   ]
  },
  {
   "cell_type": "markdown",
   "id": "5d756f0c-15ce-49ef-bc05-e8b0c873e6dc",
   "metadata": {},
   "source": [
    "We lost more r/vegan observations than those of the r/carnivore, but not a very significant difference between the two. This should be fine going forward to classification, as the classes are virtually still perfectly balanced. Now we must move into pre-processing our texts so that we can get the most out of our classifiers. "
   ]
  },
  {
   "cell_type": "code",
   "execution_count": 42,
   "id": "1a1ade17-a537-4bc5-8074-1401931361f2",
   "metadata": {},
   "outputs": [
    {
     "data": {
      "text/plain": [
       "\" I really want to stop being complacent and ignoring the fact that I'm constantly going against what I think is right ( Ex. Eating tortured animals and their products, food that has been processed beyond recognition in pollutive factories and produce that has been shipped across the world and farmed essentially by slaves). I have no idea where to start and I'm super intimidated by the idea of really taking responsibility to do the right thing. I'm lazy and I know if I take on too much at once, I'll abandon ship and go back to trying not to think about the bad I'm doing. \\n\\nAny tips on how to get started and stay on track? I wish I could just photosynthesize.\""
      ]
     },
     "execution_count": 42,
     "metadata": {},
     "output_type": "execute_result"
    }
   ],
   "source": [
    "data['selftext'][0]"
   ]
  },
  {
   "cell_type": "code",
   "execution_count": 43,
   "id": "5b5bfd67-9877-4e6b-9ed9-412edca40450",
   "metadata": {},
   "outputs": [
    {
     "data": {
      "text/plain": [
       "\"Hypothyroidism and plant-based diet-your thoughts?  \\n Does anyone suffer with Hypothyroidism? Do you feel your plant-based diet can help with this?  \\nI'd love to hear other people's thoughts because I recently got diagnosed!  I came across this video and wondering if there's a link  \\n[https://www.youtube.com/watch?v=mpfxbVPUAYI](https://www.youtube.com/watch?v=mpfxbVPUAYI)\""
      ]
     },
     "execution_count": 43,
     "metadata": {},
     "output_type": "execute_result"
    }
   ],
   "source": [
    "data['selftext'][1]"
   ]
  },
  {
   "cell_type": "code",
   "execution_count": 44,
   "id": "5b9e31a5-9f95-434c-adbd-c05db20ccf66",
   "metadata": {},
   "outputs": [
    {
     "data": {
      "text/plain": [
       "\"I bought myself some of the gardein Buffalo wings as a splurge. And holy moly these things are ridiculously spicy!!!! I can handle a lot of spice, I love spicy food and growing up my dad was way too generous with spicing food. but this has my tongue completely numb after just a few bites. They taste great but I'm practically about to be sick from how horribly spicy these are. Has anyone else tried these and thought the same?? Like I said I don't feel like I'm being weak here, these are just way too hot to eat.\""
      ]
     },
     "execution_count": 44,
     "metadata": {},
     "output_type": "execute_result"
    }
   ],
   "source": [
    "data['selftext'][2]"
   ]
  },
  {
   "cell_type": "code",
   "execution_count": 45,
   "id": "31e35348-f9a1-47fa-bb5f-0dc64b5ec8ec",
   "metadata": {},
   "outputs": [
    {
     "data": {
      "text/plain": [
       "\"As the largest community of vegans on the internet we need to make sure that we are advocating for veganism as affectively as possible, and I think discourse in this movement as a whole needs improvement.\\n\\nI see many people in this sub are quite frustrated and angry at people who still eat meat and while these feelings are 100% valid it's important to remember that affective vegan advocacy comes from a place of empathy and understanding. We can't let these negative feelings transate into how we communicate this ideology to people. \\n\\nThis disgust at how animals are treated on farms can make people feel judged or shamed for supporting it. As soon as people feel judged their defence mechanism will kick in and we will loose them.\\n\\nWe need to remember the perspective of someone who eats meat in order to successfully advocate for the vegan lifestyle. What we are advocating for is not just a dietary change but a complete change in how humans relate to other animals and nature on this planet. It cant be understated how much of a colossal change in perspective this is and it's unlikely anyone will go vegan from a single conversation.\\n\\nSomeone coming out of conversation thinking veganism is more reasonable than before is still a massive win for this movement! For many people their perspective on animals has never been challenged, what we should be aiming for is to plant the seed. The two most important tools at our disposal are the Socratic method (asking questions so they investigate their own perspective) and positive encouragement/reinforcement.\\n\\nIt's only a matter of time before animal agriculture as we know it is abolished and the better we get at advocating this change, the more animals will be spared!\""
      ]
     },
     "execution_count": 45,
     "metadata": {},
     "output_type": "execute_result"
    }
   ],
   "source": [
    "data['selftext'][3]"
   ]
  },
  {
   "cell_type": "markdown",
   "id": "7a48bc6c-f1bb-480c-bb65-e16964a11880",
   "metadata": {},
   "source": [
    "As can be seen in the print outs above, one of the few remaining glaring issue seems to be the representation of new-line spaces as '\\n' or doubles new-line spaces as '\\n\\n'. This may affect word counts when going forward with NLP methods, potentially leading to inaccuracy in our models, so it would be beneficial to remove these from the dataframes using regular expressions, as we will below. By doing so, the dimensionality (and thus, complexity) of our count vectorized dataframes will be reduced."
   ]
  },
  {
   "cell_type": "code",
   "execution_count": 46,
   "id": "afe8e263-be8b-43bc-978e-5a80887d6857",
   "metadata": {},
   "outputs": [
    {
     "data": {
      "text/plain": [
       "(0, 3)"
      ]
     },
     "execution_count": 46,
     "metadata": {},
     "output_type": "execute_result"
    }
   ],
   "source": [
    "#Removing any occurrences of single or double new-line characters, replacing them with just a space:\n",
    "data['selftext'] = data['selftext'].str.replace('\\\\n|\\\\n\\\\n', ' ', regex = True)\n",
    "\n",
    "data[data['selftext'].str.contains('\\\\n|\\\\n\\\\n')].shape"
   ]
  },
  {
   "cell_type": "code",
   "execution_count": 47,
   "id": "aba8e995-3d47-41e2-82b2-02c6f1579c65",
   "metadata": {},
   "outputs": [
    {
     "data": {
      "text/plain": [
       "\" I really want to stop being complacent and ignoring the fact that I'm constantly going against what I think is right ( Ex. Eating tortured animals and their products, food that has been processed beyond recognition in pollutive factories and produce that has been shipped across the world and farmed essentially by slaves). I have no idea where to start and I'm super intimidated by the idea of really taking responsibility to do the right thing. I'm lazy and I know if I take on too much at once, I'll abandon ship and go back to trying not to think about the bad I'm doing.   Any tips on how to get started and stay on track? I wish I could just photosynthesize.\""
      ]
     },
     "execution_count": 47,
     "metadata": {},
     "output_type": "execute_result"
    }
   ],
   "source": [
    "data['selftext'][0]"
   ]
  },
  {
   "cell_type": "code",
   "execution_count": 48,
   "id": "a85c5bae-598a-41da-8838-ac394593417c",
   "metadata": {},
   "outputs": [
    {
     "data": {
      "text/plain": [
       "\"Hypothyroidism and plant-based diet-your thoughts?    Does anyone suffer with Hypothyroidism? Do you feel your plant-based diet can help with this?   I'd love to hear other people's thoughts because I recently got diagnosed!  I came across this video and wondering if there's a link   [https://www.youtube.com/watch?v=mpfxbVPUAYI](https://www.youtube.com/watch?v=mpfxbVPUAYI)\""
      ]
     },
     "execution_count": 48,
     "metadata": {},
     "output_type": "execute_result"
    }
   ],
   "source": [
    "data['selftext'][1] #Notice there are no longer instances of '\\n\\n'"
   ]
  },
  {
   "cell_type": "markdown",
   "id": "abb533f7-74c8-4141-b40c-fc99ee204882",
   "metadata": {},
   "source": [
    "Now we will also remove hyperlinks using regex. Here are some examples of posts containing hyperlinks:"
   ]
  },
  {
   "cell_type": "code",
   "execution_count": 49,
   "id": "df914c9b-6bf6-4042-a1e7-274848f7839a",
   "metadata": {},
   "outputs": [
    {
     "data": {
      "text/plain": [
       "\"Hypothyroidism and plant-based diet-your thoughts?    Does anyone suffer with Hypothyroidism? Do you feel your plant-based diet can help with this?   I'd love to hear other people's thoughts because I recently got diagnosed!  I came across this video and wondering if there's a link   [https://www.youtube.com/watch?v=mpfxbVPUAYI](https://www.youtube.com/watch?v=mpfxbVPUAYI)\""
      ]
     },
     "execution_count": 49,
     "metadata": {},
     "output_type": "execute_result"
    }
   ],
   "source": [
    "data[data['selftext'].str.contains('https:\\/\\/')].iloc[0]['selftext']"
   ]
  },
  {
   "cell_type": "code",
   "execution_count": 50,
   "id": "152e5b77-cdc2-423f-97d5-74bb21831582",
   "metadata": {},
   "outputs": [
    {
     "data": {
      "text/plain": [
       "'  [View Poll](https://www.reddit.com/poll/vm1zku)'"
      ]
     },
     "execution_count": 50,
     "metadata": {},
     "output_type": "execute_result"
    }
   ],
   "source": [
    "data[data['selftext'].str.contains('https:\\/\\/')].iloc[1]['selftext']"
   ]
  },
  {
   "cell_type": "code",
   "execution_count": 51,
   "id": "e486e967-f175-47bc-8a58-d577ad10ae67",
   "metadata": {},
   "outputs": [
    {
     "data": {
      "text/plain": [
       "'I recently watched a YouTuber called Bernadette Banner who wears a lot of historic-type clothes.  She did a video awhile ago about sustainability of fashion and brought up animal product clothes.  I was curious about the thoughts of others in the vegan community.  https://youtu.be/6HXhW6nTCuo is the video in question and she starts on this topic at about 11:25 into the video.'"
      ]
     },
     "execution_count": 51,
     "metadata": {},
     "output_type": "execute_result"
    }
   ],
   "source": [
    "data[data['selftext'].str.contains('https:\\/\\/')].iloc[2]['selftext']"
   ]
  },
  {
   "cell_type": "code",
   "execution_count": 52,
   "id": "5b22e859-387a-4903-b0c1-279dfdba5923",
   "metadata": {},
   "outputs": [
    {
     "data": {
      "text/plain": [
       "' 479 million goats/year [1](https://ourworldindata.org/meat-production)🌱 574 million sheep/year [1](https://ourworldindata.org/meat-production)🌱 656 million turkeys/year [1](https://ourworldindata.org/meat-production)🌱  69,000 million chickens/year [1](https://ourworldindata.org/meat-production)🌱 1,500 million pigs/year [1](https://ourworldindata.org/meat-production)🌱 302 million cows/year [1](https://ourworldindata.org/meat-production)🌱 at least 900,000 million fish/year [2](http://fishcount.org.uk/published/std/fishcountstudy.pdf)🌱 at least 300,000 whales and dolphins in fishing bycatch/year [3](https://www.fishforward.eu/en/project/by-catch/)🌱 250,000 endangered turtles in fishing bycatch/year [3](https://www.fishforward.eu/en/project/by-catch/)🌱 salmon farms pass diseases to wild fish populations [4](http://www.eurocbc.org/Effects%20of%20Aquaculture%20on%20World%20Fish%20Supplies.htm)🌱 carnivorous fish farms require even more wild fish feed [5](https://cdnsciencepub.com/doi/full/10.1139/cjfas-2016-0379)🌱 1/4 shark species threatened with extinction due to fishing [6](https://www.ncbi.nlm.nih.gov/pmc/articles/PMC3897121/)🌱 77% agricultural land for only 18% calorie/37% protein supply [7](https://ourworldindata.org/global-land-for-agriculture)🌱 livestock account for 31% of food emissions [8](https://ourworldindata.org/food-ghg-emissions)🌱 twice as many emissions for livestock over crops for human consumption [8](https://ourworldindata.org/food-ghg-emissions)🌱 only 6% of soy is grown for humans [9](https://www.ucsusa.org/resources/soybeans) 🌱 animal farmers given legal exception to bestiality laws [10](https://www.researchgate.net/publication/320208999_How_Meat_Changed_Sex_The_Law_of_Interspecies_Intimacy_after_Industrial_Reproduction)🌱 environmental racism of placing polluting animal farms in marginalized areas [11](https://europepmc.org/backend/ptpmcrender.fcgi?accid=PMC1440786&amp;blobtype=pdf)🌱 65% lactose intolerance worldwide [12](https://medlineplus.gov/genetics/condition/lactose-intolerance/#frequency)🌱 right-wing ideologies predict greater acceptance of animal exploitation and more meat consumption [13](https://www.sciencedirect.com/science/article/abs/pii/S0191886914000944) 🌱 milk and ties to nazis [14](https://ro.uow.edu.au/cgi/viewcontent.cgi?article=1373&amp;context=asj) 🌱 working in animal slaughter tied with PTSD, increased violent crimes [15](http://animalstudies.msu.edu/Slaughterhouses_and_Increased_Crime_Rates.pdf)🌱 imported colonizer animals replacing native biodiversity[16](https://ourworldindata.org/what-are-drivers-deforestation) 🌱 farmed honeybees endanger critical native pollinaters and reduce species biodiversity [17](https://www.wired.com/2015/04/youre-worrying-wrong-bees/)🌱 human slavery in fishing supply chain [18](https://www.unodc.org/documents/human-trafficking/Issue_Paper_-_TOC_in_the_Fishing_Industry.pdf)🌱 amazon rainforest &amp; indigenous homes destroyed for harvesting and feeding cows [19](https://www.amnesty.org/en/latest/news/2019/11/brazil-halt-illegal-cattle-farms-fuelling-amazon-rainforest-destruction/)🌱 watchdominion.com [20](https://www.dominionmovement.com/watch) 🌱 go vegan [21](https://veganbootcamp.org/)'"
      ]
     },
     "execution_count": 52,
     "metadata": {},
     "output_type": "execute_result"
    }
   ],
   "source": [
    "data[data['selftext'].str.contains('https:\\/\\/')].iloc[3]['selftext'] #This one is massive and littered with links!"
   ]
  },
  {
   "cell_type": "code",
   "execution_count": 53,
   "id": "34ac4409-a17a-4fb2-8b44-727ad750aee0",
   "metadata": {},
   "outputs": [
    {
     "data": {
      "text/plain": [
       "(225, 3)"
      ]
     },
     "execution_count": 53,
     "metadata": {},
     "output_type": "execute_result"
    }
   ],
   "source": [
    "#There are this many posts with hyperlinks scattered throughout their descriptions in the dataframe.\n",
    "data[data['selftext'].str.contains('https:\\/\\/')].shape"
   ]
  },
  {
   "cell_type": "markdown",
   "id": "a4a837f5-e224-4053-8d83-d587e6952a86",
   "metadata": {},
   "source": [
    "From these examples, it is clear that not only may some posts have several hyperlinks, but some posts are solely polls and we should remove those next. First, the hyperlinks:"
   ]
  },
  {
   "cell_type": "code",
   "execution_count": 54,
   "id": "83008e7d-64dc-45db-8532-80c176002408",
   "metadata": {},
   "outputs": [
    {
     "data": {
      "text/plain": [
       "(1, 3)"
      ]
     },
     "execution_count": 54,
     "metadata": {},
     "output_type": "execute_result"
    }
   ],
   "source": [
    "#Removal of hyperlinks by regular expression - \n",
    "#Source on this very good regular expression for referencing hyperlinks: https://stackoverflow.com/questions/21932615/regular-expression-for-remove-link\n",
    "data['selftext'] = data['selftext'].str.replace('(https?:\\/\\/)?([\\da-z\\.-]+)\\.([a-z\\.]{2,6})([\\/\\w\\.-]*)', ' ', regex = True)\n",
    "\n",
    "data[data['selftext'].str.contains('https:\\/\\/')].shape"
   ]
  },
  {
   "cell_type": "markdown",
   "id": "18d38b6c-7cad-47fb-abec-f74f0b94881d",
   "metadata": {},
   "source": [
    "Seems there is one remaining stubborn post with hyperlinks still, but it should not matter. This was very good reduction. Next we will also remove instances of polls and parentheses that could be seen around the links."
   ]
  },
  {
   "cell_type": "code",
   "execution_count": 55,
   "id": "84f441d3-6f94-4a7b-ad05-42ae20bb2463",
   "metadata": {},
   "outputs": [
    {
     "data": {
      "text/plain": [
       "(51, 3)"
      ]
     },
     "execution_count": 55,
     "metadata": {},
     "output_type": "execute_result"
    }
   ],
   "source": [
    "data[data['selftext'].str.contains('\\[View Poll\\]|Poll')].shape"
   ]
  },
  {
   "cell_type": "code",
   "execution_count": 56,
   "id": "12fa7145-4792-4358-9422-0cd1d51f258e",
   "metadata": {},
   "outputs": [
    {
     "data": {
      "text/plain": [
       "(0, 3)"
      ]
     },
     "execution_count": 56,
     "metadata": {},
     "output_type": "execute_result"
    }
   ],
   "source": [
    "#Removal of 'View Poll' and 'Poll' text from post desriptions - not of much use here.\n",
    "data['selftext'] = data['selftext'].str.replace('\\[View Poll\\]|Poll', ' ', regex = True)\n",
    "\n",
    "data[data['selftext'].str.contains('\\[View Poll\\]|Poll')].shape #Better!"
   ]
  },
  {
   "cell_type": "code",
   "execution_count": 57,
   "id": "e064af02-afe3-4b77-85d1-f926bd36310a",
   "metadata": {},
   "outputs": [
    {
     "data": {
      "text/plain": [
       "(799, 3)"
      ]
     },
     "execution_count": 57,
     "metadata": {},
     "output_type": "execute_result"
    }
   ],
   "source": [
    "data[data['selftext'].str.contains('\\(|\\)')].shape"
   ]
  },
  {
   "cell_type": "code",
   "execution_count": 58,
   "id": "bbfcbcb4-fe12-4606-9ad5-0760e3afc99d",
   "metadata": {},
   "outputs": [
    {
     "data": {
      "text/plain": [
       "(0, 3)"
      ]
     },
     "execution_count": 58,
     "metadata": {},
     "output_type": "execute_result"
    }
   ],
   "source": [
    "#Removal of parentheses found around links and elsewhere\n",
    "data['selftext'] = data['selftext'].str.replace('\\(|\\)', ' ', regex = True)\n",
    "\n",
    "data[data['selftext'].str.contains('\\(|\\)')].shape #Better!"
   ]
  },
  {
   "cell_type": "markdown",
   "id": "1792c5bf-ce22-4780-8e6b-ed233fcc75f4",
   "metadata": {},
   "source": [
    "----\n",
    "## Exploratory Data Analysis"
   ]
  },
  {
   "cell_type": "markdown",
   "id": "8647fdfb-0d0c-47f0-b207-42230c9eda88",
   "metadata": {},
   "source": [
    "In this section, we'll create and interpret various plots showing characteristics of the dataset at hand. Let's start by creating two new features, description word count and title length. Then we shall plot their distributions."
   ]
  },
  {
   "cell_type": "code",
   "execution_count": 59,
   "id": "d74ea322-5149-49f1-9af6-0d6961eb176e",
   "metadata": {},
   "outputs": [],
   "source": [
    "#Create a column in each dataset \n",
    "data['selftext_word_count'] = data['selftext'].str.count(' ') + 1 #+1 as to count first word"
   ]
  },
  {
   "cell_type": "code",
   "execution_count": 60,
   "id": "502b24ca-cb6d-4fc1-9b26-363f6869221f",
   "metadata": {},
   "outputs": [
    {
     "data": {
      "text/plain": [
       "<Figure size 1008x576 with 0 Axes>"
      ]
     },
     "metadata": {},
     "output_type": "display_data"
    }
   ],
   "source": [
    "plt.figure(figsize = (14, 8));"
   ]
  },
  {
   "cell_type": "code",
   "execution_count": 61,
   "id": "892e4d16-30c3-4cd9-8eba-b1dcbd993382",
   "metadata": {},
   "outputs": [],
   "source": [
    "veg_word_count = data[data.subreddit == 'vegan'].selftext_word_count\n",
    "carn_word_count = data[data.subreddit == 'carnivore'].selftext_word_count"
   ]
  },
  {
   "cell_type": "markdown",
   "id": "4ea0e22c-b863-41bb-80c9-990002dc6ca0",
   "metadata": {},
   "source": [
    "Distribution for post word count for r/vegan"
   ]
  },
  {
   "cell_type": "code",
   "execution_count": 62,
   "id": "e7c2cb1a-7610-4174-bef7-5f43cbfcfacc",
   "metadata": {},
   "outputs": [
    {
     "name": "stdout",
     "output_type": "stream",
     "text": [
      "Median - 109.0\n"
     ]
    },
    {
     "data": {
      "image/png": "[encoded data removed]",
      "text/plain": [
       "<Figure size 432x288 with 1 Axes>"
      ]
     },
     "metadata": {
      "needs_background": "light"
     },
     "output_type": "display_data"
    }
   ],
   "source": [
    "plt.hist(x = veg_word_count, bins = 200)\n",
    "plt.xlabel('# of words')\n",
    "plt.ylabel('# of posts')\n",
    "plt.title('Distribution of Posts by Word Count: r/vegan')\n",
    "plt.axvline(veg_word_count.median()).set(color = 'red')\n",
    "print(f\"Median - {veg_word_count.median()}\")"
   ]
  },
  {
   "cell_type": "markdown",
   "id": "56125a16-ddbd-4f3f-8175-408a73d66d66",
   "metadata": {},
   "source": [
    "Distribution for post word count for r/carnivore"
   ]
  },
  {
   "cell_type": "code",
   "execution_count": 63,
   "id": "830e95f5-65a7-45c4-aff3-25d38393a845",
   "metadata": {},
   "outputs": [
    {
     "name": "stdout",
     "output_type": "stream",
     "text": [
      "Median - 57.0\n"
     ]
    },
    {
     "data": {
      "image/png": "[encoded data removed]",
      "text/plain": [
       "<Figure size 432x288 with 1 Axes>"
      ]
     },
     "metadata": {
      "needs_background": "light"
     },
     "output_type": "display_data"
    }
   ],
   "source": [
    "plt.hist(x = carn_word_count, bins = 200)\n",
    "plt.xlabel('# of words')\n",
    "plt.ylabel('# of posts')\n",
    "plt.title('Distribution of Posts by Word Count: r/carnivore');\n",
    "plt.axvline(carn_word_count.median()).set(color = 'red');\n",
    "print(f\"Median - {carn_word_count.median()}\")"
   ]
  },
  {
   "cell_type": "markdown",
   "id": "12c9fedc-d855-4f6e-a41a-6f1d9f97b537",
   "metadata": {},
   "source": [
    "Looking at these distributions and the recorded medians, it is evident that posts on r/vegan are usually longer and that there is probably a max character count for posts (however that may be approximated with the outliers of ~1,750 words observed here). In fact, the median word count on r/vegan is almost double that of r/carnivore. This likely heavily correlates with post length if we were to investigate that feature. These are interesting notions to perhaps keep in mind for future reddit scrapes as well as when thinking about how to execute marketing of our product. r/vegan posters may be more conscientious, for example. \n",
    "\n",
    "Further we can look at the length of post titles:"
   ]
  },
  {
   "cell_type": "code",
   "execution_count": 64,
   "id": "21b64174-5895-4056-b006-105885762030",
   "metadata": {},
   "outputs": [],
   "source": [
    "data['title_length'] = data.title.str.len()\n",
    "veg_len = data[data.subreddit == 'vegan'].title_length\n",
    "carn_len = data[data.subreddit == 'carnivore'].title_length"
   ]
  },
  {
   "cell_type": "markdown",
   "id": "ce3895ac-3ee2-46e8-81f9-37f1a856d92f",
   "metadata": {},
   "source": [
    "Distribution for post title length for r/vegan"
   ]
  },
  {
   "cell_type": "code",
   "execution_count": 65,
   "id": "5d92720f-6149-4b01-9fc8-e7fd27bf6d08",
   "metadata": {},
   "outputs": [
    {
     "name": "stdout",
     "output_type": "stream",
     "text": [
      "Median - 41.0\n"
     ]
    },
    {
     "data": {
      "image/png": "[encoded data removed]",
      "text/plain": [
       "<Figure size 432x288 with 1 Axes>"
      ]
     },
     "metadata": {
      "needs_background": "light"
     },
     "output_type": "display_data"
    }
   ],
   "source": [
    "plt.hist(x = veg_len, bins = 50)\n",
    "plt.xlabel('# of words')\n",
    "plt.ylabel('# of posts')\n",
    "plt.title('Distribution of Posts by Title Length: r/vegan');\n",
    "plt.axvline(veg_len.median()).set(color = 'red');\n",
    "print(f\"Median - {veg_len.median()}\")"
   ]
  },
  {
   "cell_type": "markdown",
   "id": "795286fc-5372-4e15-b866-15dd88277609",
   "metadata": {},
   "source": [
    "Distribution for post title length for r/carnivore"
   ]
  },
  {
   "cell_type": "code",
   "execution_count": 66,
   "id": "cdf11d0a-04a8-4b71-b303-2429cdc81a5b",
   "metadata": {},
   "outputs": [
    {
     "name": "stdout",
     "output_type": "stream",
     "text": [
      "Median - 33.0\n"
     ]
    },
    {
     "data": {
      "image/png": "[encoded data removed]",
      "text/plain": [
       "<Figure size 432x288 with 1 Axes>"
      ]
     },
     "metadata": {
      "needs_background": "light"
     },
     "output_type": "display_data"
    }
   ],
   "source": [
    "plt.hist(x = carn_len, bins = 50)\n",
    "plt.xlabel('title length (# of characters)')\n",
    "plt.ylabel('# of posts')\n",
    "plt.title('Distribution of Posts by Title Length: r/carnivore');\n",
    "plt.axvline(carn_len.median()).set(color = 'red');\n",
    "print(f\"Median - {carn_len.median()}\")"
   ]
  },
  {
   "cell_type": "markdown",
   "id": "d68171c8-c85b-41ea-9854-a7c3bcfa6842",
   "metadata": {},
   "source": [
    "Title length seems to be distributed virtually identically between the two subreddits, with r/vegan only having a slightly higher median. This doesn't really tell us much, and it is probably to be expected since titles should be brief in general.\n",
    "\n",
    "We'll now drop the word count and title length columns added above as they will be of no use going forward."
   ]
  },
  {
   "cell_type": "code",
   "execution_count": 67,
   "id": "83e93d65-0a38-47b6-a876-eb67d21c3244",
   "metadata": {},
   "outputs": [],
   "source": [
    "data.drop(columns = ['selftext_word_count', 'title_length'], inplace = True)\n",
    "\n",
    "data.reset_index(drop = True, inplace = True)"
   ]
  },
  {
   "cell_type": "markdown",
   "id": "52d1a15a-7add-44b9-b066-eb692b11db26",
   "metadata": {},
   "source": [
    "We will also create a new column that puts together the title and post description. This is necessary if we want to consider post titles in our models as well, because countvectorizer requires a vector (series). "
   ]
  },
  {
   "cell_type": "code",
   "execution_count": 68,
   "id": "a10ac837-d2d8-45d2-a967-73359959c67e",
   "metadata": {},
   "outputs": [],
   "source": [
    "data['t_and_st'] = data.title + ' ' + data.selftext"
   ]
  },
  {
   "cell_type": "markdown",
   "id": "a7c8b768-367a-4d27-a1a3-4af7d44ab97a",
   "metadata": {},
   "source": [
    "Let's now look at the most common words for each subreddit. This can be accomplished by filtering by subreddit first, then pushing these dataframes through a train,test split and count vectorization. We can then plot the # of occurrences of, say, the top 25 most common words on the subreddit on one bar chart."
   ]
  },
  {
   "cell_type": "code",
   "execution_count": 69,
   "id": "aab3f6da-adc8-489e-b679-2a7fe39d4394",
   "metadata": {},
   "outputs": [],
   "source": [
    "#We must filter first because two train,test splits are required. We do not want any mixing of data from the two subreddits here.\n",
    "r_vegan = data[data.subreddit == 'vegan']\n",
    "r_carnivore = data[data.subreddit == 'carnivore']\n",
    "r_carnivore.reset_index(drop = True, inplace = True) #reset index because carnivore was the latter half of the concatenated dataframe."
   ]
  },
  {
   "cell_type": "markdown",
   "id": "6aada560-3893-4b75-bc8b-ed993536aea1",
   "metadata": {},
   "source": [
    "First, the 30 most common words of r/vegan:"
   ]
  },
  {
   "cell_type": "code",
   "execution_count": 70,
   "id": "80a672a4-c509-4215-a15c-2b3e6be5311b",
   "metadata": {},
   "outputs": [],
   "source": [
    "#Performing train, test split for only vegan data. \n",
    "X = r_vegan.t_and_st\n",
    "y = r_vegan.subreddit\n",
    "\n",
    "X_train, X_test, y_train, y_test = train_test_split(X,\n",
    "                                                    y,\n",
    "                                                    test_size = 0.2,\n",
    "                                                    random_state = 42,\n",
    "                                                    stratify = y)\n",
    "    \n",
    "cvec_show = CountVectorizer(stop_words = 'english')\n",
    "\n",
    "trans_veg = pd.DataFrame(cvec_show.fit_transform(X_train).todense(), \n",
    "                        columns=cvec_show.get_feature_names_out())\n",
    "\n",
    "#Drop and then concatenate y because trans_df.subreddit was in a weird format\n",
    "trans_veg.drop(columns = 'subreddit', inplace = True)\n",
    "trans_veg = pd.concat([y_train, trans_veg], axis = 1)"
   ]
  },
  {
   "cell_type": "code",
   "execution_count": 71,
   "id": "dec0cc57-32cc-49ed-8710-3332f7d4346b",
   "metadata": {},
   "outputs": [
    {
     "data": {
      "image/png": "[encoded data removed]",
      "text/plain": [
       "<Figure size 432x288 with 1 Axes>"
      ]
     },
     "metadata": {
      "needs_background": "light"
     },
     "output_type": "display_data"
    }
   ],
   "source": [
    "trans_veg.sum(numeric_only =True).sort_values(ascending=False).head(30).plot(kind='barh').set(title = '30 Most Common Words on r/vegan',\n",
    "                                                                                     xlabel = 'Occurrences');"
   ]
  },
  {
   "cell_type": "markdown",
   "id": "aea84797-42a5-4cf9-89a7-b515b4606f68",
   "metadata": {},
   "source": [
    "Next, the 30 most common words of r/carnivore:"
   ]
  },
  {
   "cell_type": "code",
   "execution_count": 72,
   "id": "a2d1e338-c531-4c84-a60d-09fbb6b2fdf0",
   "metadata": {},
   "outputs": [],
   "source": [
    "#Performing train, test split for only carnivore data. \n",
    "X = r_carnivore.t_and_st\n",
    "y = r_carnivore.subreddit\n",
    "\n",
    "X_train, X_test, y_train, y_test = train_test_split(X,\n",
    "                                                    y,\n",
    "                                                    test_size = 0.2,\n",
    "                                                    random_state = 42,\n",
    "                                                    stratify = y)\n",
    "    \n",
    "cvec_show = CountVectorizer(stop_words = 'english')\n",
    "                            \n",
    "trans_carn = pd.DataFrame(cvec_show.fit_transform(X_train).todense(), \n",
    "                        columns=cvec_show.get_feature_names_out())\n",
    "\n",
    "#Drop and then concatenate y because trans_df.subreddit was in a weird format\n",
    "trans_carn.drop(columns = 'subreddit', inplace = True)\n",
    "trans_carn = pd.concat([y_train, trans_carn], axis = 1)"
   ]
  },
  {
   "cell_type": "code",
   "execution_count": 73,
   "id": "e4348bc3-2eff-46b5-8eef-4c09628bf360",
   "metadata": {},
   "outputs": [
    {
     "data": {
      "image/png": "[encoded data removed]",
      "text/plain": [
       "<Figure size 432x288 with 1 Axes>"
      ]
     },
     "metadata": {
      "needs_background": "light"
     },
     "output_type": "display_data"
    }
   ],
   "source": [
    "trans_carn.sum(numeric_only =True).sort_values(ascending=False).head(30).plot(kind='barh').set(title = '30 Most Common Words on r/carnivore',\n",
    "                                                                                     xlabel = 'Occurrences');"
   ]
  },
  {
   "cell_type": "markdown",
   "id": "7c0d980d-a504-454c-ad10-31126d90e2e9",
   "metadata": {},
   "source": [
    "These two plots are definitely somewhat intuitive. The 'vegan' and 'carnivore' are understandably the most common words on their respective subreddits. Further, r/vegan's common words reflect attention to animal welfare and human impact, as they actually include 'animal'and 'people' whereas r/carnivore does not. Conversely, r/carnivore seems to use words that vegans would maybe cringe hearing, like 'beef', 'eggs', 'liver', 'chicken', and 'steak'. This was surely an insightful angle to explore, especially for this analysis' purpose. When marketing our meal plans, we must make sure we advertise in a customer-friendly way, using the right words."
   ]
  },
  {
   "cell_type": "markdown",
   "id": "784b7cc3-f367-4986-8e81-81a852e9444e",
   "metadata": {},
   "source": [
    "---\n",
    "## Model Creation and Evaluation"
   ]
  },
  {
   "cell_type": "markdown",
   "id": "00b21beb-b7c8-4f78-ab6f-0d835cacf93b",
   "metadata": {},
   "source": [
    "First, we must execute our train, test split so that we can fit and later score the models we will create."
   ]
  },
  {
   "cell_type": "code",
   "execution_count": 74,
   "id": "51312355-0447-48ef-b4d6-2aeec93c5968",
   "metadata": {},
   "outputs": [],
   "source": [
    "#Execute train, test split for whole dataframe.\n",
    "X = data.t_and_st\n",
    "y = data.subreddit\n",
    "\n",
    "X_train, X_test, y_train, y_test = train_test_split(X,\n",
    "                                                    y,\n",
    "                                                    test_size = 0.2,\n",
    "                                                    random_state = 42,\n",
    "                                                    stratify = y)"
   ]
  },
  {
   "cell_type": "markdown",
   "id": "caed2b16-f0c3-483e-8018-7a4e1e237e6c",
   "metadata": {
    "tags": []
   },
   "source": [
    "Before diving into Naive Bayes and Logistic Regression models, we must acknowledge the baseline accuracy rate (that of the null model) for this data so that we know if our models are of any use. For this, we would pick the plurality class every time."
   ]
  },
  {
   "cell_type": "code",
   "execution_count": 75,
   "id": "c1a962f1-7282-428a-a601-057b3c42a9f6",
   "metadata": {},
   "outputs": [
    {
     "data": {
      "text/plain": [
       "carnivore    0.501193\n",
       "vegan        0.498807\n",
       "Name: subreddit, dtype: float64"
      ]
     },
     "execution_count": 75,
     "metadata": {},
     "output_type": "execute_result"
    }
   ],
   "source": [
    "y_test.value_counts(normalize = True)"
   ]
  },
  {
   "cell_type": "markdown",
   "id": "cb61191d-9536-407c-beb9-9ccf0543cec6",
   "metadata": {},
   "source": [
    "Thus, the baseline accuracy rate here is 50.12%, achieved by simply classifying every post as originating from r/carnivore (this is because r/carnivore has just barely more posts). As long as the models we are about to create offer any improvement in classification over this baseline, they can be considered useful. Now let's dive into model creation:"
   ]
  },
  {
   "cell_type": "markdown",
   "id": "2c213b9f-0eb7-41c7-9ff7-53417640e7d0",
   "metadata": {},
   "source": [
    "To start, we will create a LemmaTokenizer object that will allow a lemmatizer to be pushed through Count Vectorizer (that is, texts will be lemmatized before the dataset is transformed into a word count matrix. This should further reduce the dimensionality (and thus, complexity) of the dataset that our classification models will be fitted to. In turn, this should help performance."
   ]
  },
  {
   "cell_type": "code",
   "execution_count": 76,
   "id": "14248c3c-6373-4b57-9230-5981aa015034",
   "metadata": {},
   "outputs": [],
   "source": [
    "#Create LemmaTokenizer object that will create lemmatized tokens that can be passed through a Count Vectorizer transformer.\n",
    "#Source - https://stackoverflow.com/questions/47423854/sklearn-adding-lemmatizer-to-countvectorizer: shows how to pass a lemmatizer through CountVectorizer. \n",
    "\n",
    "class LemmaTokenizer(object):\n",
    "    def __init__(self):\n",
    "        self.wnl = WordNetLemmatizer()\n",
    "    def __call__(self, articles):\n",
    "        return [self.wnl.lemmatize(t) for t in word_tokenize(articles)]"
   ]
  },
  {
   "cell_type": "code",
   "execution_count": 77,
   "id": "43917ed9-9ae7-4bf1-84a4-7a84b18b23e7",
   "metadata": {},
   "outputs": [
    {
     "name": "stdout",
     "output_type": "stream",
     "text": [
      "This dataframe contains 11392 features!\n"
     ]
    }
   ],
   "source": [
    "#Count Vectorizer test to see ball-park figure of # of features post-transformation. This will make testing max_features values easier.\n",
    "\n",
    "cvec_test = CountVectorizer(stop_words = 'english') #though not going the full length here, the number of features observed here should be pretty close anyway,\n",
    "                                                    # just looking for a ball-park figure\n",
    "trans_test = pd.DataFrame(cvec_test.fit_transform(X_train).todense(), \n",
    "                         columns=cvec_test.get_feature_names_out())\n",
    "print(f'This dataframe contains {trans_test.shape[1]} features!')"
   ]
  },
  {
   "cell_type": "markdown",
   "id": "b42fe0dd-037d-48bd-81e6-6d6607da4703",
   "metadata": {},
   "source": [
    "Above, we can see that count-vectorizing our data (with just the stop_words argument), the transformed dataset has well over 10,000 features. This should be kept in mind for grid searching, as parameter 'max_features' of the cvec can be influential. Let's move forward with grid searching:"
   ]
  },
  {
   "cell_type": "code",
   "execution_count": 78,
   "id": "89b12586-da5d-4e0b-9c57-b956e6d34aac",
   "metadata": {},
   "outputs": [],
   "source": [
    "#Lets create two pipelines using different models, one with Naive Bayes and one with Logistic Regression. Both will use CountVectorizer.\n",
    "#These pipelines make fitting easier, and grid search makes searching for the best hyperparameters simpler.\n",
    "pipe_nb = Pipeline([\n",
    "    ('cvec', CountVectorizer()),\n",
    "    ('nb', MultinomialNB())\n",
    "])\n",
    "pipe_log = Pipeline([\n",
    "    ('cvec', CountVectorizer()),\n",
    "    ('log', LogisticRegression())\n",
    "])\n",
    "\n",
    "pipe_params_nb = {\n",
    "    'cvec__tokenizer': [None, LemmaTokenizer()],\n",
    "    'cvec__max_features': [4_000, 5_000, 6_000],\n",
    "    'cvec__min_df': [2, 3, 4],\n",
    "    'cvec__max_df': [.9,.95],\n",
    "    'cvec__ngram_range': [(1, 1), (1, 2)],                 #Equivalent to fitting 72 models (then x5)\n",
    "    'cvec__stop_words': ['english'],\n",
    "    'cvec__strip_accents': ['unicode'],\n",
    "} \n",
    "\n",
    "pipe_params_log = {\n",
    "    'cvec__tokenizer': [None, LemmaTokenizer()],\n",
    "    'cvec__max_features': [4_000, 5_000, 6_000],\n",
    "    'cvec__min_df': [2, 3, 4],\n",
    "    'cvec__max_df': [.9,.95],\n",
    "    'cvec__ngram_range': [(1, 1), (1, 2)],                 #Equivalent to fitting 576 models (then x5)\n",
    "    'cvec__stop_words': ['english'],\n",
    "    'cvec__strip_accents': ['unicode'],\n",
    "    'log__penalty': ['l1', 'l2'],\n",
    "    'log__max_iter': [100, 200],\n",
    "    'log__C': [1.0, 0.1],\n",
    "    'log__n_jobs': [-1],\n",
    "}\n",
    "\n",
    "gs_nb = GridSearchCV(pipe_nb,\n",
    "                  param_grid = pipe_params_nb,\n",
    "                  cv = 5)\n",
    "\n",
    "gs_log = GridSearchCV(pipe_log,\n",
    "                  param_grid = pipe_params_log,\n",
    "                  cv = 5)"
   ]
  },
  {
   "cell_type": "code",
   "execution_count": 79,
   "id": "13db4749-c28d-4c1d-9333-b9c78bbd3d0c",
   "metadata": {
    "tags": []
   },
   "outputs": [
    {
     "data": {
      "text/plain": [
       "GridSearchCV(cv=5,\n",
       "             estimator=Pipeline(steps=[('cvec', CountVectorizer()),\n",
       "                                       ('nb', MultinomialNB())]),\n",
       "             param_grid={'cvec__max_df': [0.9, 0.95],\n",
       "                         'cvec__max_features': [4000, 5000, 6000],\n",
       "                         'cvec__min_df': [2, 3, 4],\n",
       "                         'cvec__ngram_range': [(1, 1), (1, 2)],\n",
       "                         'cvec__stop_words': ['english'],\n",
       "                         'cvec__strip_accents': ['unicode'],\n",
       "                         'cvec__tokenizer': [None,\n",
       "                                             <__main__.LemmaTokenizer object at 0x7fdf9277ad00>]})"
      ]
     },
     "execution_count": 79,
     "metadata": {},
     "output_type": "execute_result"
    }
   ],
   "source": [
    "gs_nb.fit(X_train, y_train)"
   ]
  },
  {
   "cell_type": "code",
   "execution_count": 80,
   "id": "1d8be96b-bfee-45a1-890a-a954aa2f0575",
   "metadata": {
    "tags": []
   },
   "outputs": [
    {
     "data": {
      "text/plain": [
       "GridSearchCV(cv=5,\n",
       "             estimator=Pipeline(steps=[('cvec', CountVectorizer()),\n",
       "                                       ('log', LogisticRegression())]),\n",
       "             param_grid={'cvec__max_df': [0.9, 0.95],\n",
       "                         'cvec__max_features': [4000, 5000, 6000],\n",
       "                         'cvec__min_df': [2, 3, 4],\n",
       "                         'cvec__ngram_range': [(1, 1), (1, 2)],\n",
       "                         'cvec__stop_words': ['english'],\n",
       "                         'cvec__strip_accents': ['unicode'],\n",
       "                         'cvec__tokenizer': [None,\n",
       "                                             <__main__.LemmaTokenizer object at 0x7fdf82b00970>],\n",
       "                         'log__C': [1.0, 0.1], 'log__max_iter': [100, 200],\n",
       "                         'log__n_jobs': [-1], 'log__penalty': ['l1', 'l2']})"
      ]
     },
     "execution_count": 80,
     "metadata": {},
     "output_type": "execute_result"
    }
   ],
   "source": [
    "gs_log.fit(X_train, y_train)"
   ]
  },
  {
   "cell_type": "code",
   "execution_count": 81,
   "id": "4db8b5bf-8f46-4278-a86f-2ed3fe2e83ca",
   "metadata": {},
   "outputs": [
    {
     "data": {
      "text/plain": [
       "{'cvec__max_df': 0.9,\n",
       " 'cvec__max_features': 4000,\n",
       " 'cvec__min_df': 3,\n",
       " 'cvec__ngram_range': (1, 2),\n",
       " 'cvec__stop_words': 'english',\n",
       " 'cvec__strip_accents': 'unicode',\n",
       " 'cvec__tokenizer': None}"
      ]
     },
     "execution_count": 81,
     "metadata": {},
     "output_type": "execute_result"
    }
   ],
   "source": [
    "gs_nb.best_params_"
   ]
  },
  {
   "cell_type": "code",
   "execution_count": 82,
   "id": "1334749f-30ff-42d5-9d6f-1b42c5f74d0d",
   "metadata": {},
   "outputs": [
    {
     "data": {
      "text/plain": [
       "Pipeline(steps=[('cvec',\n",
       "                 CountVectorizer(max_df=0.9, max_features=4000, min_df=3,\n",
       "                                 ngram_range=(1, 2), stop_words='english',\n",
       "                                 strip_accents='unicode')),\n",
       "                ('nb', MultinomialNB())])"
      ]
     },
     "execution_count": 82,
     "metadata": {},
     "output_type": "execute_result"
    }
   ],
   "source": [
    "#Using best parameters above, gridsearch is too time demanding.\n",
    "best_nb = Pipeline([\n",
    "    ('cvec', CountVectorizer(max_features = 4_000,\n",
    "                            max_df = 0.9,\n",
    "                            min_df = 3,\n",
    "                            ngram_range = (1,2),\n",
    "                            stop_words = 'english',\n",
    "                            tokenizer = None,\n",
    "                            strip_accents = 'unicode')),\n",
    "    ('nb', MultinomialNB())\n",
    "])\n",
    "best_nb.fit(X_train, y_train)"
   ]
  },
  {
   "cell_type": "code",
   "execution_count": 83,
   "id": "99b375b4-bea4-43c3-a261-3529d78cb7a4",
   "metadata": {},
   "outputs": [
    {
     "data": {
      "text/plain": [
       "{'cvec__max_df': 0.9,\n",
       " 'cvec__max_features': 4000,\n",
       " 'cvec__min_df': 3,\n",
       " 'cvec__ngram_range': (1, 2),\n",
       " 'cvec__stop_words': 'english',\n",
       " 'cvec__strip_accents': 'unicode',\n",
       " 'cvec__tokenizer': None,\n",
       " 'log__C': 1.0,\n",
       " 'log__max_iter': 100,\n",
       " 'log__n_jobs': -1,\n",
       " 'log__penalty': 'l2'}"
      ]
     },
     "execution_count": 83,
     "metadata": {},
     "output_type": "execute_result"
    }
   ],
   "source": [
    "gs_log.best_params_ #Seemingly no benefit to grid searching! All the default parameters of logistic regression were best"
   ]
  },
  {
   "cell_type": "code",
   "execution_count": 84,
   "id": "689851b9-6f00-4b16-8d08-098506599272",
   "metadata": {},
   "outputs": [
    {
     "data": {
      "text/plain": [
       "Pipeline(steps=[('cvec',\n",
       "                 CountVectorizer(max_df=0.9, max_features=4000, min_df=3,\n",
       "                                 ngram_range=(1, 2), stop_words='english',\n",
       "                                 strip_accents='unicode')),\n",
       "                ('log', LogisticRegression(n_jobs=-1))])"
      ]
     },
     "execution_count": 84,
     "metadata": {},
     "output_type": "execute_result"
    }
   ],
   "source": [
    "#Just constructing a model using best parameters above, so do not have to load gridsearch again.\n",
    "best_log = Pipeline([\n",
    "    ('cvec', CountVectorizer(max_features = 4_000,\n",
    "                            max_df = 0.9,\n",
    "                            min_df = 3,\n",
    "                            ngram_range = (1,2),\n",
    "                            stop_words = 'english',\n",
    "                            tokenizer = None,\n",
    "                            strip_accents = 'unicode')),\n",
    "    ('log', LogisticRegression(n_jobs = -1))\n",
    "])\n",
    "best_log.fit(X_train, y_train)"
   ]
  },
  {
   "cell_type": "markdown",
   "id": "1683fc6c-c5d9-474f-9cb0-3d7eb755320a",
   "metadata": {},
   "source": [
    "As it turns out, lemmatizing did in fact not help model performance, at least with the estimators and parameter grids chosen here. Evaluating both models through grid search, the best params for each did not include a tokenizer. Further, the best Count Vectorizer parameters were consistent across both models: 3 min document frequency, a max features included of 4,000, and so on as seen above. Finally, the logistic regression estimator stuck with all the default values. \n",
    "\n",
    "Now we will plot the performance of these models with confusion matrices."
   ]
  },
  {
   "cell_type": "code",
   "execution_count": 85,
   "id": "4d43576f-b596-44bb-a42c-098b55a36275",
   "metadata": {},
   "outputs": [],
   "source": [
    "preds_nb = best_nb.predict(X_test)\n",
    "preds_log = best_log.predict(X_test)\n",
    "\n",
    "nb_tn, nb_fp, nb_fn, nb_tp = confusion_matrix(y_test, preds_nb).ravel()\n",
    "log_tn, log_fp, log_fn, log_tp = confusion_matrix(y_test, preds_log).ravel()"
   ]
  },
  {
   "cell_type": "markdown",
   "id": "b6c4bfde-d999-49e3-aa68-f0cf368e5e21",
   "metadata": {},
   "source": [
    "Plotting confusion matrices for each model:"
   ]
  },
  {
   "cell_type": "code",
   "execution_count": 86,
   "id": "64283fbf-eadb-4863-b2d8-d0ae574fbe75",
   "metadata": {},
   "outputs": [
    {
     "data": {
      "text/plain": [
       "Text(0.5, 1.0, 'Confusion Matrix for Naive Bayes Model')"
      ]
     },
     "execution_count": 86,
     "metadata": {},
     "output_type": "execute_result"
    },
    {
     "data": {
      "image/png": "[encoded data removed]",
      "text/plain": [
       "<Figure size 432x288 with 2 Axes>"
      ]
     },
     "metadata": {
      "needs_background": "light"
     },
     "output_type": "display_data"
    }
   ],
   "source": [
    "plot_confusion_matrix(best_nb, X_test, y_test, cmap='Blues', values_format='d');\n",
    "plt.title('Confusion Matrix for Naive Bayes Model')"
   ]
  },
  {
   "cell_type": "code",
   "execution_count": 87,
   "id": "945f91a4-55eb-4893-80f8-4e0fb89c39b2",
   "metadata": {},
   "outputs": [
    {
     "data": {
      "text/plain": [
       "Text(0.5, 1.0, 'Confusion Matrix for Logistic Regression Model')"
      ]
     },
     "execution_count": 87,
     "metadata": {},
     "output_type": "execute_result"
    },
    {
     "data": {
      "image/png": "[encoded data removed]",
      "text/plain": [
       "<Figure size 432x288 with 2 Axes>"
      ]
     },
     "metadata": {
      "needs_background": "light"
     },
     "output_type": "display_data"
    }
   ],
   "source": [
    "plot_confusion_matrix(best_log, X_test, y_test, cmap='Blues', values_format='d');\n",
    "plt.title('Confusion Matrix for Logistic Regression Model')"
   ]
  },
  {
   "cell_type": "markdown",
   "id": "09c278b9-0ef9-4198-a3bd-3d6be0898a94",
   "metadata": {},
   "source": [
    "#### Let's bake this all down into numbers:"
   ]
  },
  {
   "cell_type": "code",
   "execution_count": 88,
   "id": "e7606a1f-e8f1-4438-b7b7-cb60e0dfccf7",
   "metadata": {},
   "outputs": [
    {
     "name": "stdout",
     "output_type": "stream",
     "text": [
      "0.954653937947494\n",
      "0.9331742243436754\n"
     ]
    }
   ],
   "source": [
    "#Accuracy\n",
    "print(best_nb.score(X_test, y_test))\n",
    "print(best_log.score(X_test, y_test))"
   ]
  },
  {
   "cell_type": "code",
   "execution_count": 89,
   "id": "fe030e57-019a-4ffc-8973-394c57e558f5",
   "metadata": {},
   "outputs": [
    {
     "name": "stdout",
     "output_type": "stream",
     "text": [
      "best_nb model specificity: 0.9380952380952381\n",
      "best_log model specificity: 0.9714285714285714\n"
     ]
    }
   ],
   "source": [
    "#Specificity (true negative rates) of the models:\n",
    "print(f'best_nb model specificity: {nb_tn/ (nb_tn + nb_fp)}')\n",
    "print(f'best_log model specificity: {log_tn/ (log_tn + log_fp)}')"
   ]
  },
  {
   "cell_type": "code",
   "execution_count": 90,
   "id": "98b8556c-389d-413f-80d1-2a1d3be11af8",
   "metadata": {},
   "outputs": [
    {
     "name": "stdout",
     "output_type": "stream",
     "text": [
      "best_nb model precision: 0.9398148148148148\n",
      "best_log model precision: 0.9689119170984456\n"
     ]
    }
   ],
   "source": [
    "#Precision\n",
    "print(f'best_nb model precision: {nb_tp / (nb_tp + nb_fp)}')\n",
    "print(f'best_log model precision: {log_tp/ (log_tp + log_fp)}')"
   ]
  },
  {
   "cell_type": "code",
   "execution_count": 91,
   "id": "ad06f909-2fdb-4324-9e2c-db5b5f0862be",
   "metadata": {},
   "outputs": [
    {
     "name": "stdout",
     "output_type": "stream",
     "text": [
      "best_nb model precision: 0.9712918660287081\n",
      "best_log model precision: 0.8947368421052632\n"
     ]
    }
   ],
   "source": [
    "#Recall:\n",
    "print(f'best_nb model precision: {nb_tp / (nb_tp + nb_fn)}')\n",
    "print(f'best_log model precision: {log_tp/ (log_tp + log_fn)}')"
   ]
  },
  {
   "cell_type": "markdown",
   "id": "c395ecaf-64f1-4c85-8baa-d0cf13fa4339",
   "metadata": {},
   "source": [
    "#### Summary: best_nb beats best_log in accuracy and recall. best_log beats best_nb in specificity and precision.\n",
    "\n",
    "Given the task at hand, best_nb (Naive Bayes) is the better model. Occurrences of false positives and false negatives here are acceptable -- it would just mean that an advertisement did not land on the right person. Although some money may be wasted here, there is little harm. In fact, a few ads given to the wrong people could maybe help to woo those people to a new diet (the opposite one). \n",
    "\n",
    "Recall and accuracy are more important here. Recall because we would not want to classify a vegan as a carnivore given how adamant that group is about animal rights and other close topics. Accuracy because we want to target potential customers that already eat the kinds of food Everything Meal Prep are producing and advertising. They will be more likely to turn into sales for the company. Thus, we will go with the model using Naive Bayes."
   ]
  },
  {
   "cell_type": "markdown",
   "id": "3cd51a27-7fb5-49e8-9487-a7c5565af346",
   "metadata": {},
   "source": [
    "## Conclusions and Recommendations"
   ]
  },
  {
   "cell_type": "markdown",
   "id": "cbc69d8a-ae74-4246-9da9-e0a11363d5fc",
   "metadata": {},
   "source": [
    "Given the results of our model creation and evaluation above, it is evident that Everything Meal Prep can indeed rely on an NLP classification system reliant on user post content for highly accurate targeting of potential customers. While the baseline accuracy rate was 50.12%, our best model, the Naive Bayes estimator paired with a CountVectorizer with tuned parameters, boasts a 95.47% accuracy rate and a 97.13% recall rate which are each very attractive for the task at hand. Everything Meal Prep should go forward with utilizing this model immediately to save on advertising spend and / or boost sales. They can know their audience like the back of their hand using this system, which is what they were initially striving for. The stakeholders in Everything Meal Prep will benefit greatly from the bolstered performance in online marketing that this system promises, as company value will increase on potential higher earnings.\n",
    "\n",
    "Further, there are some insights gathered from the analysis here. When it comes to delivering these advertisements, they should be tailored to the nature of the recipients. As observed above, posts are generally longer on r/vegan, and seem to contain discussions of animals, people, feelings, and more that may fall outside the realm of just diets (going by common words used). These users are perhaps more conscientious, and a well-targeted ad may need to be conveyed in a savvier, more thought-provoking manner. Beyond these assumptions, the company should also simply use these common words sort of like buzzwords / points of fixation. Mentioning how Everything Meal Prep's \"Super Vegan\" diet helps preserve wildlife reserves, for example, may goad a vegan to try the product.\n",
    "\n",
    "Future steps in aiding Everything Meal Prep in this endeavor would perhaps be performing more grid searches for even better hyperparamters, choosing and evaluating estimators not seen here, and collecting more data from reddit. Each of these may potentially lead to an even better-performing model than the Naive Bayes one found here."
   ]
  }
 ],
 "metadata": {
  "kernelspec": {
   "display_name": "Python [conda env:dsi] *",
   "language": "python",
   "name": "conda-env-dsi-py"
  },
  "language_info": {
   "codemirror_mode": {
    "name": "ipython",
    "version": 3
   },
   "file_extension": ".py",
   "mimetype": "text/x-python",
   "name": "python",
   "nbconvert_exporter": "python",
   "pygments_lexer": "ipython3",
   "version": "3.9.12"
  }
 },
 "nbformat": 4,
 "nbformat_minor": 5
}
